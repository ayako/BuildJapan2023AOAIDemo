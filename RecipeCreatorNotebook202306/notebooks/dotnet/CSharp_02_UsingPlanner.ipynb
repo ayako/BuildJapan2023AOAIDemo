{
 "cells": [
  {
   "attachments": {},
   "cell_type": "markdown",
   "metadata": {},
   "source": [
    "# 2. Semantic Kernel の Planner を利用する"
   ]
  },
  {
   "attachments": {},
   "cell_type": "markdown",
   "metadata": {},
   "source": [
    "**Step 1**: Semantic Kernel の初期設定"
   ]
  },
  {
   "cell_type": "code",
   "execution_count": null,
   "metadata": {
    "dotnet_interactive": {
     "language": "csharp"
    },
    "polyglot_notebook": {
     "kernelName": "csharp"
    }
   },
   "outputs": [],
   "source": [
    "// Semantic Kernel パッケージのインポート、Kernel の初期化、Azure OpenAI Service の設定\n",
    "#r \"nuget: Microsoft.SemanticKernel, 0.15.230531.5-preview\"\n",
    "\n",
    "using Microsoft.SemanticKernel;\n",
    "using Microsoft.SemanticKernel.Planning;\n",
    "using System.Text.Encodings.Web;\n",
    "using System.Text.Json;\n",
    "\n",
    "var builder = new KernelBuilder();\n",
    "builder.WithAzureTextCompletionService(\"text-davinci-003\", \"https://YOUR_SERVICE_NAME.openai.azure.com/\", \"YOUR_API_KEY\");\n",
    "IKernel kernel = builder.Build();"
   ]
  },
  {
   "attachments": {},
   "cell_type": "markdown",
   "metadata": {},
   "source": [
    "**Step 2**: Planner の準備"
   ]
  },
  {
   "cell_type": "code",
   "execution_count": null,
   "metadata": {
    "dotnet_interactive": {
     "language": "csharp"
    },
    "polyglot_notebook": {
     "kernelName": "csharp"
    }
   },
   "outputs": [],
   "source": [
    "// Planner の初期化\n",
    "var planner = new SequentialPlanner(kernel);"
   ]
  },
  {
   "cell_type": "code",
   "execution_count": null,
   "metadata": {
    "dotnet_interactive": {
     "language": "csharp"
    },
    "polyglot_notebook": {
     "kernelName": "csharp"
    }
   },
   "outputs": [],
   "source": [
    "// Skills ディレクトリから RecipeCreatorSkill をインポートする\n",
    "var skillsDirectory\n",
    "    = System.IO.Path.Combine(\n",
    "        System.IO.Directory.GetCurrentDirectory(), \"..\", \"..\", \"skills\");\n",
    "var recipeCreatorFunctions\n",
    "    = kernel.ImportSemanticSkillFromDirectory(\n",
    "        skillsDirectory, \"RecipeCreatorSkill\");"
   ]
  },
  {
   "attachments": {},
   "cell_type": "markdown",
   "metadata": {},
   "source": [
    "**Step 3**: Planner によるプラン作成と確認"
   ]
  },
  {
   "cell_type": "code",
   "execution_count": null,
   "metadata": {
    "dotnet_interactive": {
     "language": "csharp"
    },
    "polyglot_notebook": {
     "kernelName": "csharp"
    }
   },
   "outputs": [],
   "source": [
    "var ask = \"今日はきつねうどんを食べたいです。足りない栄養素を補う献立メニューを作ってください\";\n",
    "var plan = await planner.CreatePlanAsync(ask);"
   ]
  },
  {
   "cell_type": "code",
   "execution_count": null,
   "metadata": {
    "dotnet_interactive": {
     "language": "csharp"
    },
    "polyglot_notebook": {
     "kernelName": "csharp"
    }
   },
   "outputs": [],
   "source": [
    "// プランで使用する Skill の表示\n",
    "var planSteps = \n",
    "    string.Join(\n",
    "        \"\\n\", \n",
    "        plan.Steps.Select((step, i) => $\"-step {i}: {step.Name}\")\n",
    "    );\n",
    "\n",
    "Console.WriteLine(plan.Steps.Count + $\" steps in plan:\");\n",
    "Console.WriteLine(planSteps);"
   ]
  },
  {
   "cell_type": "code",
   "execution_count": null,
   "metadata": {
    "dotnet_interactive": {
     "language": "csharp"
    },
    "polyglot_notebook": {
     "kernelName": "csharp"
    }
   },
   "outputs": [],
   "source": [
    "// プラン詳細の表示\n",
    "var planJson = JsonSerializer.Serialize(\n",
    "    plan, \n",
    "    new JsonSerializerOptions { \n",
    "        Encoder = JavaScriptEncoder.Create(System.Text.Unicode.UnicodeRanges.All),\n",
    "        WriteIndented = true\n",
    "        }\n",
    "    );\n",
    "Console.WriteLine(planJson);"
   ]
  },
  {
   "attachments": {},
   "cell_type": "markdown",
   "metadata": {},
   "source": [
    "**Step 4**: プランの実行"
   ]
  },
  {
   "cell_type": "code",
   "execution_count": null,
   "metadata": {
    "dotnet_interactive": {
     "language": "csharp"
    },
    "polyglot_notebook": {
     "kernelName": "csharp"
    }
   },
   "outputs": [],
   "source": [
    "var result = await plan.InvokeAsync();\n",
    "Console.WriteLine(result);"
   ]
  }
 ],
 "metadata": {
  "kernelspec": {
   "display_name": ".NET (C#)",
   "language": "C#",
   "name": ".net-csharp"
  },
  "language_info": {
   "name": "polyglot-notebook"
  },
  "polyglot_notebook": {
   "kernelInfo": {
    "defaultKernelName": "csharp",
    "items": [
     {
      "aliases": [],
      "languageName": "csharp",
      "name": "csharp"
     }
    ]
   }
  }
 },
 "nbformat": 4,
 "nbformat_minor": 2
}
