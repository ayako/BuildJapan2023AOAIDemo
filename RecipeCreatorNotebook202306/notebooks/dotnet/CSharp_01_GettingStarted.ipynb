{
 "cells": [
  {
   "attachments": {},
   "cell_type": "markdown",
   "metadata": {},
   "source": [
    "# 1. Semantic Kernel の基本機能、Skills を利用する"
   ]
  },
  {
   "attachments": {},
   "cell_type": "markdown",
   "metadata": {},
   "source": [
    "**Step 1**: Semantic Kernel のインポート"
   ]
  },
  {
   "cell_type": "code",
   "execution_count": null,
   "metadata": {
    "dotnet_interactive": {
     "language": "csharp"
    },
    "polyglot_notebook": {
     "kernelName": "csharp"
    }
   },
   "outputs": [],
   "source": [
    "// Semantic Kernel パッケージのインポート\n",
    "#r \"nuget: Microsoft.SemanticKernel, 0.15.230531.5-preview\""
   ]
  },
  {
   "cell_type": "code",
   "execution_count": null,
   "metadata": {
    "dotnet_interactive": {
     "language": "csharp"
    },
    "polyglot_notebook": {
     "kernelName": "csharp"
    }
   },
   "outputs": [],
   "source": [
    "using Microsoft.SemanticKernel;\n",
    "\n",
    "// Kernel builder の初期化\n",
    "var builder = new KernelBuilder();"
   ]
  },
  {
   "attachments": {},
   "cell_type": "markdown",
   "metadata": {},
   "source": [
    "**Step 2**: Azure OpenAI Service の利用設定"
   ]
  },
  {
   "cell_type": "code",
   "execution_count": null,
   "metadata": {
    "dotnet_interactive": {
     "language": "csharp"
    },
    "polyglot_notebook": {
     "kernelName": "csharp"
    }
   },
   "outputs": [],
   "source": [
    "// Kernel builer に Azure OpenAI Servie のモデル、エンドポイント、API キーを設定\n",
    "builder.WithAzureTextCompletionService(\"text-davinci-003\", \"https://YOUR_SERVICE_NAME.openai.azure.com/\", \"YOUR_API_KEY\");\n",
    "IKernel kernel = builder.Build();"
   ]
  },
  {
   "attachments": {},
   "cell_type": "markdown",
   "metadata": {},
   "source": [
    "**Step 3**: Skill のインポート"
   ]
  },
  {
   "cell_type": "code",
   "execution_count": null,
   "metadata": {
    "dotnet_interactive": {
     "language": "csharp"
    },
    "polyglot_notebook": {
     "kernelName": "csharp"
    }
   },
   "outputs": [],
   "source": [
    "// Skills ディレクトリから RecipeCreatorSkill をインポートする\n",
    "var skillsDirectory\n",
    "    = System.IO.Path.Combine(\n",
    "        System.IO.Directory.GetCurrentDirectory(), \"..\", \"..\", \"skills\");\n",
    "var recipeCreatorFunctions\n",
    "    = kernel.ImportSemanticSkillFromDirectory(\n",
    "        skillsDirectory, \"RecipeCreatorSkill\");"
   ]
  },
  {
   "attachments": {},
   "cell_type": "markdown",
   "metadata": {},
   "source": [
    "**Step 4**: Skill の利用"
   ]
  },
  {
   "cell_type": "code",
   "execution_count": null,
   "metadata": {
    "dotnet_interactive": {
     "language": "csharp"
    },
    "polyglot_notebook": {
     "kernelName": "csharp"
    }
   },
   "outputs": [],
   "source": [
    "var recipe\n",
    "    = await recipeCreatorFunctions[\"Recipe\"].InvokeAsync(\"鶏むね肉、トマト\");\n",
    "Console.WriteLine(recipe);"
   ]
  },
  {
   "cell_type": "code",
   "execution_count": null,
   "metadata": {
    "dotnet_interactive": {
     "language": "csharp"
    },
    "polyglot_notebook": {
     "kernelName": "csharp"
    }
   },
   "outputs": [],
   "source": [
    "var advice \n",
    "    = await recipeCreatorFunctions[\"Advice\"].InvokeAsync(\n",
    "        \"鶏肉の豆板醤炒め、人参と玉ねぎの炒め物、ご飯、キャベツとほうれん草のみそ汁\");\n",
    "Console.WriteLine(advice);"
   ]
  }
 ],
 "metadata": {
  "kernelspec": {
   "display_name": ".NET (C#)",
   "language": "C#",
   "name": ".net-csharp"
  },
  "language_info": {
   "name": "polyglot-notebook"
  },
  "polyglot_notebook": {
   "kernelInfo": {
    "defaultKernelName": "csharp",
    "items": [
     {
      "aliases": [],
      "languageName": "csharp",
      "name": "csharp"
     }
    ]
   }
  }
 },
 "nbformat": 4,
 "nbformat_minor": 2
}
